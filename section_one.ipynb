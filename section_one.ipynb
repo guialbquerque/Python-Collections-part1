{
 "cells": [
  {
   "cell_type": "markdown",
   "metadata": {},
   "source": [
    "## Python collections - Curso Alura"
   ]
  },
  {
   "cell_type": "code",
   "execution_count": 1,
   "metadata": {},
   "outputs": [],
   "source": [
    "lista = [1, 10, 15, 20, 25]"
   ]
  },
  {
   "cell_type": "code",
   "execution_count": 2,
   "metadata": {},
   "outputs": [
    {
     "name": "stdout",
     "output_type": "stream",
     "text": [
      "[1, 10, 15, 20, 25, 15]\n"
     ]
    }
   ],
   "source": [
    "lista.append(15)\n",
    "print(lista)"
   ]
  },
  {
   "cell_type": "code",
   "execution_count": 3,
   "metadata": {},
   "outputs": [
    {
     "name": "stdout",
     "output_type": "stream",
     "text": [
      "[1, 10, 20, 25, 15]\n"
     ]
    }
   ],
   "source": [
    "lista.remove(15)\n",
    "print(lista)"
   ]
  },
  {
   "cell_type": "code",
   "execution_count": 4,
   "metadata": {},
   "outputs": [],
   "source": [
    "lista2 = [i * 2 for i in lista if i % 2 == 0]"
   ]
  },
  {
   "cell_type": "code",
   "execution_count": 5,
   "metadata": {},
   "outputs": [],
   "source": [
    "lista2.extend([i ** 2 for i in range(len(lista))])"
   ]
  },
  {
   "cell_type": "code",
   "execution_count": 6,
   "metadata": {},
   "outputs": [
    {
     "data": {
      "text/plain": [
       "[20, 40, 0, 1, 4, 9, 16]"
      ]
     },
     "execution_count": 6,
     "metadata": {},
     "output_type": "execute_result"
    }
   ],
   "source": [
    "lista2"
   ]
  },
  {
   "cell_type": "markdown",
   "metadata": {},
   "source": [
    "## Lista de objetos"
   ]
  },
  {
   "cell_type": "code",
   "execution_count": 7,
   "metadata": {},
   "outputs": [],
   "source": [
    "class ContaCorrente:\n",
    "    def __init__(self, numero_conta):\n",
    "        self.numero_conta = numero_conta\n",
    "        self.saldo = 0\n",
    "    \n",
    "    def deposita(self, valor):\n",
    "        self.saldo += valor\n",
    "    \n",
    "    def __str__(self):\n",
    "        return f'>>Numero da conta:{self.numero_conta}<<\\n >>valor:{self.saldo}<<'\n",
    "    "
   ]
  },
  {
   "cell_type": "code",
   "execution_count": 8,
   "metadata": {},
   "outputs": [],
   "source": [
    "conta_do_gui = ContaCorrente(2712)\n",
    "conta_do_gui.deposita(2000)"
   ]
  },
  {
   "cell_type": "code",
   "execution_count": 9,
   "metadata": {},
   "outputs": [
    {
     "name": "stdout",
     "output_type": "stream",
     "text": [
      ">>Numero da conta:2712<<\n",
      " >>valor:2000<<\n"
     ]
    }
   ],
   "source": [
    "print(conta_do_gui)"
   ]
  },
  {
   "cell_type": "code",
   "execution_count": 10,
   "metadata": {},
   "outputs": [],
   "source": [
    "conta_da_ju = ContaCorrente(1301)\n",
    "conta_da_ju.deposita(1000)"
   ]
  },
  {
   "cell_type": "code",
   "execution_count": 11,
   "metadata": {},
   "outputs": [],
   "source": [
    "contas = [conta_do_gui, conta_da_ju]"
   ]
  },
  {
   "cell_type": "code",
   "execution_count": 12,
   "metadata": {},
   "outputs": [
    {
     "name": "stdout",
     "output_type": "stream",
     "text": [
      "[<__main__.ContaCorrente object at 0x7f4b40e07a90>, <__main__.ContaCorrente object at 0x7f4b40e076a0>]\n"
     ]
    }
   ],
   "source": [
    "print(contas)"
   ]
  },
  {
   "cell_type": "code",
   "execution_count": 13,
   "metadata": {},
   "outputs": [],
   "source": [
    "contas.append(conta_do_gui)"
   ]
  },
  {
   "cell_type": "code",
   "execution_count": 14,
   "metadata": {},
   "outputs": [
    {
     "name": "stdout",
     "output_type": "stream",
     "text": [
      "[<__main__.ContaCorrente object at 0x7f4b40e07a90>, <__main__.ContaCorrente object at 0x7f4b40e076a0>, <__main__.ContaCorrente object at 0x7f4b40e07a90>]\n"
     ]
    }
   ],
   "source": [
    "\"\"\"\n",
    "Nao importa quantas vezes eu adicione contas com o mesmo endereço, se só foi feita uma instanciação, qualquer operação de atribuição sempre\n",
    "refletirar na mesma conta \n",
    "\"\"\" \n",
    "print(contas)"
   ]
  },
  {
   "cell_type": "code",
   "execution_count": 15,
   "metadata": {},
   "outputs": [
    {
     "name": "stdout",
     "output_type": "stream",
     "text": [
      ">>Numero da conta:2712<<\n",
      " >>valor:2000<<\n",
      ">>Numero da conta:1301<<\n",
      " >>valor:1000<<\n",
      ">>Numero da conta:2712<<\n",
      " >>valor:2000<<\n"
     ]
    }
   ],
   "source": [
    "for conta in contas:\n",
    "    print(conta)"
   ]
  },
  {
   "cell_type": "markdown",
   "metadata": {},
   "source": [
    "## Tuplas, objetos e metodo funcional"
   ]
  },
  {
   "cell_type": "code",
   "execution_count": 16,
   "metadata": {},
   "outputs": [],
   "source": [
    "gui = (\"Gui\", 26, 1996)\n",
    "ju = (\"Ju\", 25, 1997)"
   ]
  },
  {
   "cell_type": "code",
   "execution_count": 17,
   "metadata": {},
   "outputs": [
    {
     "name": "stdout",
     "output_type": "stream",
     "text": [
      "(271, 2500)\n"
     ]
    }
   ],
   "source": [
    "conta = (271, 2000)\n",
    "def deposita(conta):\n",
    "    novo_valor = conta[1] + 500\n",
    "    return (conta[0], novo_valor)\n",
    "\n",
    "print(deposita(conta))"
   ]
  },
  {
   "cell_type": "markdown",
   "metadata": {},
   "source": [
    "## Tupla de objetos e lista de tuplas"
   ]
  },
  {
   "cell_type": "code",
   "execution_count": 18,
   "metadata": {},
   "outputs": [
    {
     "name": "stdout",
     "output_type": "stream",
     "text": [
      "('Gui', 26, 1996)\n",
      "('Ju', 25, 1997)\n"
     ]
    }
   ],
   "source": [
    "usuarios = [gui, ju]\n",
    "for usuario in usuarios:\n",
    "    print(usuario)"
   ]
  },
  {
   "cell_type": "code",
   "execution_count": 19,
   "metadata": {},
   "outputs": [],
   "source": [
    "usuarios.insert(0, (\"Gabi\", 28, 1995))"
   ]
  },
  {
   "cell_type": "code",
   "execution_count": 20,
   "metadata": {},
   "outputs": [
    {
     "name": "stdout",
     "output_type": "stream",
     "text": [
      "('Gabi', 28, 1995)\n",
      "('Gui', 26, 1996)\n",
      "('Ju', 25, 1997)\n"
     ]
    }
   ],
   "source": [
    "for usuario in usuarios:\n",
    "    print(usuario)"
   ]
  },
  {
   "cell_type": "code",
   "execution_count": 21,
   "metadata": {},
   "outputs": [],
   "source": [
    "contas = (conta_da_ju, conta_do_gui)"
   ]
  },
  {
   "cell_type": "code",
   "execution_count": 22,
   "metadata": {},
   "outputs": [
    {
     "name": "stdout",
     "output_type": "stream",
     "text": [
      "(<__main__.ContaCorrente object at 0x7f4b40e076a0>, <__main__.ContaCorrente object at 0x7f4b40e07a90>)\n",
      ">>Numero da conta:1301<<\n",
      " >>valor:1000<<\n",
      ">>Numero da conta:2712<<\n",
      " >>valor:2000<<\n"
     ]
    }
   ],
   "source": [
    "print(contas)\n",
    "for conta in contas:\n",
    "    print(conta)"
   ]
  },
  {
   "cell_type": "code",
   "execution_count": 23,
   "metadata": {},
   "outputs": [],
   "source": [
    "contas[0].deposita(500)"
   ]
  },
  {
   "cell_type": "code",
   "execution_count": 24,
   "metadata": {},
   "outputs": [
    {
     "name": "stdout",
     "output_type": "stream",
     "text": [
      "(<__main__.ContaCorrente object at 0x7f4b40e076a0>, <__main__.ContaCorrente object at 0x7f4b40e07a90>)\n",
      ">>Numero da conta:1301<<\n",
      " >>valor:1500<<\n",
      ">>Numero da conta:2712<<\n",
      " >>valor:2000<<\n"
     ]
    }
   ],
   "source": [
    "print(contas)\n",
    "for conta in contas:\n",
    "    print(conta)"
   ]
  },
  {
   "cell_type": "markdown",
   "metadata": {},
   "source": [
    "## Heranças e polimorfismo"
   ]
  },
  {
   "cell_type": "code",
   "execution_count": 25,
   "metadata": {},
   "outputs": [
    {
     "name": "stdout",
     "output_type": "stream",
     "text": [
      "Conta: 1\n",
      "Valor: 1000\n",
      "Conta: 2\n",
      "Valor: 2000\n"
     ]
    }
   ],
   "source": [
    "class Conta:\n",
    "    def __init__(self, numero_conta):\n",
    "        self._numero_conta = numero_conta\n",
    "        self._saldo = 0\n",
    "        \n",
    "    def deposita(self, valor):\n",
    "        self._saldo += valor\n",
    "        \n",
    "    def __str__(self):\n",
    "        return f'Conta: {self._numero_conta}\\nValor: {self._saldo}'\n",
    "\n",
    "class ContaCorrente(Conta):\n",
    "        def __init__(self, numero_conta):\n",
    "            super().__init__(numero_conta)\n",
    "            self._saldo = 0\n",
    "    \n",
    "        def passa_mes(self):\n",
    "            self._saldo -= 2\n",
    "        \n",
    "class ContaPoupanca(Conta):\n",
    "    def passa_mes(self):\n",
    "        self._saldo *= 1.01\n",
    "        \n",
    "conta1 = ContaCorrente(1)\n",
    "conta1.deposita(1000)\n",
    "conta2 = ContaPoupanca(2)\n",
    "conta2.deposita(2000)\n",
    "\n",
    "contas = [conta1, conta2]\n",
    "\n",
    "for conta in contas:\n",
    "    print(conta)"
   ]
  },
  {
   "cell_type": "code",
   "execution_count": 26,
   "metadata": {},
   "outputs": [
    {
     "name": "stdout",
     "output_type": "stream",
     "text": [
      "Conta: 1\n",
      "Valor: 998\n",
      "Conta: 2\n",
      "Valor: 2020.0\n"
     ]
    }
   ],
   "source": [
    "\"\"\"\n",
    "Duck Typing - passa_mes eh um metodo que existe nas duas classes, e portanto, eh possivel recuperar a informacao no for loop com o iteravel\n",
    "\"\"\"\n",
    "conta1.passa_mes()\n",
    "conta2.passa_mes()\n",
    "for conta in contas:\n",
    "    print(conta)"
   ]
  },
  {
   "cell_type": "markdown",
   "metadata": {},
   "source": [
    "## Array built in python - não usado"
   ]
  },
  {
   "cell_type": "code",
   "execution_count": 27,
   "metadata": {},
   "outputs": [],
   "source": [
    "import array as arr"
   ]
  },
  {
   "cell_type": "code",
   "execution_count": 28,
   "metadata": {},
   "outputs": [
    {
     "name": "stdout",
     "output_type": "stream",
     "text": [
      "array('d', [1.0, 5.6, 2.0])\n"
     ]
    }
   ],
   "source": [
    "array = arr.array('d', [1, 5.6, 2])\n",
    "print(array)"
   ]
  },
  {
   "cell_type": "markdown",
   "metadata": {},
   "source": [
    "## Numpy - biblioteca cientifica sempre escolhida"
   ]
  },
  {
   "cell_type": "code",
   "execution_count": 29,
   "metadata": {},
   "outputs": [],
   "source": [
    "import numpy as np"
   ]
  },
  {
   "cell_type": "code",
   "execution_count": 30,
   "metadata": {},
   "outputs": [
    {
     "name": "stdout",
     "output_type": "stream",
     "text": [
      "[1.  2.5 3. ]\n"
     ]
    }
   ],
   "source": [
    "n = np.array([1, 2.5, 3])\n",
    "print(n)"
   ]
  },
  {
   "cell_type": "markdown",
   "metadata": {},
   "source": [
    "## Metodo abstrato\n",
    "### Quando se deseja que a classe mae nao seja instanciada, inclusive criando um metodo abstrato forçando que as classes filhas implementem este metodo"
   ]
  },
  {
   "cell_type": "code",
   "execution_count": 48,
   "metadata": {},
   "outputs": [],
   "source": [
    "from abc import ABCMeta, abstractmethod\n",
    "\n",
    "class Conta(metaclass=ABCMeta):\n",
    "    def __init__(self, numero_conta):\n",
    "        self._numero_conta = numero_conta\n",
    "        self._saldo = 0\n",
    "        \n",
    "    def deposita(self, valor):\n",
    "        self._saldo += valor\n",
    "        \n",
    "    def __str__(self):\n",
    "        return f'Conta: {self._numero_conta}\\nValor: {self._saldo}'\n",
    "    \n",
    "    @abstractmethod\n",
    "    def passa_mes(self):\n",
    "        pass\n",
    "\n",
    "class ContaCorrente(Conta):\n",
    "        def __init__(self, numero_conta):\n",
    "            super().__init__(numero_conta)\n",
    "            self._saldo = 0\n",
    "    \n",
    "        def passa_mes(self):\n",
    "            self._saldo -= 2\n",
    "        \n",
    "class ContaPoupanca(Conta):\n",
    "    def passa_mes(self):\n",
    "        self._saldo *= 1.01\n",
    "\n",
    "class ContaInvestimento(Conta):\n",
    "    pass"
   ]
  },
  {
   "cell_type": "code",
   "execution_count": 32,
   "metadata": {},
   "outputs": [],
   "source": [
    "conta3 = ContaCorrente(3)\n",
    "conta3.deposita(1500)\n",
    "conta3.passa_mes()"
   ]
  },
  {
   "cell_type": "code",
   "execution_count": 33,
   "metadata": {},
   "outputs": [],
   "source": [
    "conta4 = ContaPoupanca(4)\n",
    "conta4.deposita(600)\n",
    "conta4.passa_mes()"
   ]
  },
  {
   "cell_type": "code",
   "execution_count": 34,
   "metadata": {},
   "outputs": [
    {
     "ename": "TypeError",
     "evalue": "Can't instantiate abstract class ContaInvestimento with abstract method passa_mes",
     "output_type": "error",
     "traceback": [
      "\u001b[0;31m---------------------------------------------------------------------------\u001b[0m",
      "\u001b[0;31mTypeError\u001b[0m                                 Traceback (most recent call last)",
      "Cell \u001b[0;32mIn [34], line 4\u001b[0m\n\u001b[1;32m      1\u001b[0m \u001b[39m\"\"\"\u001b[39;00m\n\u001b[1;32m      2\u001b[0m \u001b[39mO erro abaixo indica que a classe ContaInvestimento nao tem o metodo passa_mes implementado, e portanto, nao pode ser intanciada.\u001b[39;00m\n\u001b[1;32m      3\u001b[0m \u001b[39m\"\"\"\u001b[39;00m\n\u001b[0;32m----> 4\u001b[0m conta5 \u001b[39m=\u001b[39m ContaInvestimento(\u001b[39m5\u001b[39;49m)\n",
      "\u001b[0;31mTypeError\u001b[0m: Can't instantiate abstract class ContaInvestimento with abstract method passa_mes"
     ]
    }
   ],
   "source": [
    "\"\"\"\n",
    "O erro abaixo indica que a classe ContaInvestimento nao tem o metodo passa_mes implementado, e portanto, nao pode ser intanciada.\n",
    "\"\"\"\n",
    "conta5 = ContaInvestimento(5)"
   ]
  },
  {
   "cell_type": "markdown",
   "metadata": {},
   "source": [
    "## Metodo \"__eq__\" e aplicacao em objetos  "
   ]
  },
  {
   "cell_type": "code",
   "execution_count": 52,
   "metadata": {},
   "outputs": [],
   "source": [
    "class ContaSalario:\n",
    "    def __init__(self, codigo):\n",
    "        self._codigo = codigo\n",
    "        self._saldo = 0\n",
    "    \n",
    "    def __eq__(self, outro):\n",
    "        if type(outro) != ContaSalario:\n",
    "            return False\n",
    "        return self._codigo == outro._codigo\n",
    "    \n",
    "    def deposita(self, valor):\n",
    "        self._saldo += valor\n",
    "    \n",
    "    def __str__(self):\n",
    "        return f\" Conta{self._codigo}\\nSaldo{self._saldo}\"\n",
    "    \n",
    "class ContaInternacional(ContaSalario):\n",
    "    pass"
   ]
  },
  {
   "cell_type": "code",
   "execution_count": 43,
   "metadata": {},
   "outputs": [],
   "source": [
    "conta1 = ContaSalario(22)\n",
    "conta2 = ContaSalario(22)"
   ]
  },
  {
   "cell_type": "code",
   "execution_count": 44,
   "metadata": {},
   "outputs": [
    {
     "data": {
      "text/plain": [
       "True"
      ]
     },
     "execution_count": 44,
     "metadata": {},
     "output_type": "execute_result"
    }
   ],
   "source": [
    "conta1 == conta2"
   ]
  },
  {
   "cell_type": "code",
   "execution_count": 45,
   "metadata": {},
   "outputs": [],
   "source": [
    "conta3 = ContaCorrente(22)"
   ]
  },
  {
   "cell_type": "code",
   "execution_count": 46,
   "metadata": {},
   "outputs": [
    {
     "data": {
      "text/plain": [
       "False"
      ]
     },
     "execution_count": 46,
     "metadata": {},
     "output_type": "execute_result"
    }
   ],
   "source": [
    "conta3 == conta1"
   ]
  },
  {
   "cell_type": "markdown",
   "metadata": {},
   "source": [
    "### Contas filhas sao instancias das suas classes maes"
   ]
  },
  {
   "cell_type": "code",
   "execution_count": 50,
   "metadata": {},
   "outputs": [
    {
     "data": {
      "text/plain": [
       "True"
      ]
     },
     "execution_count": 50,
     "metadata": {},
     "output_type": "execute_result"
    }
   ],
   "source": [
    "isinstance(ContaCorrente(22), Conta)"
   ]
  },
  {
   "cell_type": "code",
   "execution_count": 53,
   "metadata": {},
   "outputs": [
    {
     "data": {
      "text/plain": [
       "True"
      ]
     },
     "execution_count": 53,
     "metadata": {},
     "output_type": "execute_result"
    }
   ],
   "source": [
    "isinstance(ContaInternacional(13), ContaSalario)"
   ]
  },
  {
   "cell_type": "markdown",
   "metadata": {},
   "source": [
    "## Built ins - enumerate, range"
   ]
  },
  {
   "cell_type": "code",
   "execution_count": 54,
   "metadata": {},
   "outputs": [
    {
     "data": {
      "text/plain": [
       "range(0, 10)"
      ]
     },
     "execution_count": 54,
     "metadata": {},
     "output_type": "execute_result"
    }
   ],
   "source": [
    "range(10)"
   ]
  },
  {
   "cell_type": "code",
   "execution_count": 55,
   "metadata": {},
   "outputs": [],
   "source": [
    "lista = np.random.randint(1, 200, size = 10)"
   ]
  },
  {
   "cell_type": "code",
   "execution_count": 56,
   "metadata": {},
   "outputs": [
    {
     "data": {
      "text/plain": [
       "<enumerate at 0x7f4b40a39980>"
      ]
     },
     "execution_count": 56,
     "metadata": {},
     "output_type": "execute_result"
    }
   ],
   "source": [
    "enumerate(lista)"
   ]
  },
  {
   "cell_type": "code",
   "execution_count": 59,
   "metadata": {},
   "outputs": [
    {
     "name": "stdout",
     "output_type": "stream",
     "text": [
      "0 2\n",
      "1 9\n",
      "2 72\n",
      "3 122\n",
      "4 199\n",
      "5 4\n",
      "6 185\n",
      "7 162\n",
      "8 32\n",
      "9 10\n"
     ]
    }
   ],
   "source": [
    "j = 0\n",
    "for i in range(len(lista)):\n",
    "    print(i, lista[i])"
   ]
  },
  {
   "cell_type": "code",
   "execution_count": 60,
   "metadata": {},
   "outputs": [
    {
     "name": "stdout",
     "output_type": "stream",
     "text": [
      "0 2\n",
      "1 9\n",
      "2 72\n",
      "3 122\n",
      "4 199\n",
      "5 4\n",
      "6 185\n",
      "7 162\n",
      "8 32\n",
      "9 10\n"
     ]
    }
   ],
   "source": [
    "for i, element in enumerate(lista):\n",
    "    print(i, element)"
   ]
  },
  {
   "cell_type": "code",
   "execution_count": 65,
   "metadata": {},
   "outputs": [
    {
     "name": "stdout",
     "output_type": "stream",
     "text": [
      "Gabi\n",
      "Gui\n",
      "Ju\n"
     ]
    }
   ],
   "source": [
    "for usuario, idade, ano in usuarios:\n",
    "    print(usuario)"
   ]
  },
  {
   "cell_type": "markdown",
   "metadata": {},
   "source": [
    "## Ordenacao basica"
   ]
  },
  {
   "cell_type": "code",
   "execution_count": 66,
   "metadata": {},
   "outputs": [],
   "source": [
    "lista = [2, 3, 0, 1, 10, -1, 4]"
   ]
  },
  {
   "cell_type": "code",
   "execution_count": 67,
   "metadata": {},
   "outputs": [
    {
     "data": {
      "text/plain": [
       "[-1, 0, 1, 2, 3, 4, 10]"
      ]
     },
     "execution_count": 67,
     "metadata": {},
     "output_type": "execute_result"
    }
   ],
   "source": [
    "sorted(lista)"
   ]
  },
  {
   "cell_type": "code",
   "execution_count": 68,
   "metadata": {},
   "outputs": [
    {
     "data": {
      "text/plain": [
       "[10, 4, 3, 2, 1, 0, -1]"
      ]
     },
     "execution_count": 68,
     "metadata": {},
     "output_type": "execute_result"
    }
   ],
   "source": [
    "sorted(lista, reverse = True)"
   ]
  },
  {
   "cell_type": "code",
   "execution_count": 69,
   "metadata": {},
   "outputs": [],
   "source": [
    "lista.sort()"
   ]
  },
  {
   "cell_type": "code",
   "execution_count": 70,
   "metadata": {},
   "outputs": [
    {
     "data": {
      "text/plain": [
       "[-1, 0, 1, 2, 3, 4, 10]"
      ]
     },
     "execution_count": 70,
     "metadata": {},
     "output_type": "execute_result"
    }
   ],
   "source": [
    "lista"
   ]
  },
  {
   "cell_type": "code",
   "execution_count": 71,
   "metadata": {},
   "outputs": [],
   "source": [
    "lista.sort(reverse = True)"
   ]
  },
  {
   "cell_type": "code",
   "execution_count": 72,
   "metadata": {},
   "outputs": [
    {
     "data": {
      "text/plain": [
       "[10, 4, 3, 2, 1, 0, -1]"
      ]
     },
     "execution_count": 72,
     "metadata": {},
     "output_type": "execute_result"
    }
   ],
   "source": [
    "lista"
   ]
  },
  {
   "cell_type": "markdown",
   "metadata": {},
   "source": [
    "## Ordenacao de objetos -- attrgetter -- -> abordagem funcional"
   ]
  },
  {
   "cell_type": "code",
   "execution_count": 73,
   "metadata": {},
   "outputs": [
    {
     "data": {
      "text/plain": [
       "[('Gabi', 28, 1995), ('Gui', 26, 1996), ('Ju', 25, 1997)]"
      ]
     },
     "execution_count": 73,
     "metadata": {},
     "output_type": "execute_result"
    }
   ],
   "source": [
    "usuarios"
   ]
  },
  {
   "cell_type": "code",
   "execution_count": 74,
   "metadata": {},
   "outputs": [],
   "source": [
    "conta_da_gabi = ContaSalario(1)\n",
    "conta_da_gabi.deposita(500)\n",
    "\n",
    "conta_da_ju = ContaSalario(2)\n",
    "conta_da_ju.deposita(505)\n",
    "\n",
    "conta_do_gui = ContaSalario(3)\n",
    "conta_do_gui.deposita(510)\n",
    "\n",
    "contas = [conta_do_gui, conta_da_gabi, conta_da_ju]"
   ]
  },
  {
   "cell_type": "code",
   "execution_count": 75,
   "metadata": {},
   "outputs": [
    {
     "name": "stdout",
     "output_type": "stream",
     "text": [
      " Conta3\n",
      "Saldo510\n",
      " Conta1\n",
      "Saldo500\n",
      " Conta2\n",
      "Saldo505\n"
     ]
    }
   ],
   "source": [
    "for conta in contas:\n",
    "    print(conta)"
   ]
  },
  {
   "cell_type": "code",
   "execution_count": 78,
   "metadata": {},
   "outputs": [],
   "source": [
    "from operator import attrgetter"
   ]
  },
  {
   "cell_type": "code",
   "execution_count": 82,
   "metadata": {},
   "outputs": [
    {
     "name": "stdout",
     "output_type": "stream",
     "text": [
      " Conta1\n",
      "Saldo500\n",
      " Conta2\n",
      "Saldo505\n",
      " Conta3\n",
      "Saldo510\n"
     ]
    }
   ],
   "source": [
    "\"\"\"\n",
    "O attrgetter funciona acessando um atributo de um classe permitindo realizar operacoes\n",
    "\"\"\"\n",
    "for conta in sorted(contas, key = attrgetter(\"_saldo\")):\n",
    "    print(conta)"
   ]
  },
  {
   "cell_type": "markdown",
   "metadata": {},
   "source": [
    "## Ordenacao de objetos -- lt -- -> abordagem orientada a objetos"
   ]
  },
  {
   "cell_type": "code",
   "execution_count": 101,
   "metadata": {},
   "outputs": [],
   "source": [
    "class ContaSalario:\n",
    "    def __init__(self, codigo):\n",
    "        self._codigo = codigo\n",
    "        self._saldo = 0\n",
    "    \n",
    "    def __eq__(self, outro):\n",
    "        if type(outro) != ContaSalario:\n",
    "            return False\n",
    "        return self._codigo == outro._codigo\n",
    "    \n",
    "    def deposita(self, valor):\n",
    "        self._saldo += valor\n",
    "    \n",
    "    def __str__(self):\n",
    "        return f\" Conta{self._codigo}\\nSaldo{self._saldo}\"\n",
    "    \n",
    "    def __lt__(self, outro):\n",
    "        return self._saldo < outro._saldo\n",
    "    \n",
    "class ContaInternacional(ContaSalario):\n",
    "    pass"
   ]
  },
  {
   "cell_type": "code",
   "execution_count": 89,
   "metadata": {},
   "outputs": [],
   "source": [
    "conta_da_gabi = ContaSalario(1)\n",
    "conta_da_gabi.deposita(500)\n",
    "\n",
    "conta_da_ju = ContaSalario(2)\n",
    "conta_da_ju.deposita(505)\n",
    "\n",
    "conta_do_gui = ContaSalario(3)\n",
    "conta_do_gui.deposita(510)\n",
    "\n",
    "contas = [conta_do_gui, conta_da_gabi, conta_da_ju]"
   ]
  },
  {
   "cell_type": "code",
   "execution_count": 91,
   "metadata": {},
   "outputs": [
    {
     "name": "stdout",
     "output_type": "stream",
     "text": [
      " Conta1\n",
      "Saldo500\n",
      " Conta2\n",
      "Saldo505\n",
      " Conta3\n",
      "Saldo510\n"
     ]
    }
   ],
   "source": [
    "for conta in sorted(contas):\n",
    "    print(conta)"
   ]
  },
  {
   "cell_type": "code",
   "execution_count": 92,
   "metadata": {},
   "outputs": [
    {
     "name": "stdout",
     "output_type": "stream",
     "text": [
      " Conta3\n",
      "Saldo510\n",
      " Conta2\n",
      "Saldo505\n",
      " Conta1\n",
      "Saldo500\n"
     ]
    }
   ],
   "source": [
    "for conta in sorted(contas, reverse = True):\n",
    "    print(conta)"
   ]
  },
  {
   "cell_type": "markdown",
   "metadata": {},
   "source": [
    "## Outras maneiras de comparar\n"
   ]
  },
  {
   "cell_type": "code",
   "execution_count": 97,
   "metadata": {},
   "outputs": [],
   "source": [
    "conta_da_gabi = ContaSalario(16)\n",
    "conta_da_gabi.deposita(500)\n",
    "\n",
    "conta_da_ju = ContaSalario(2)\n",
    "conta_da_ju.deposita(500)\n",
    "\n",
    "conta_do_gui = ContaSalario(3)\n",
    "conta_do_gui.deposita(510)\n",
    "\n",
    "contas = [conta_do_gui, conta_da_gabi, conta_da_ju]"
   ]
  },
  {
   "cell_type": "code",
   "execution_count": 99,
   "metadata": {},
   "outputs": [
    {
     "name": "stdout",
     "output_type": "stream",
     "text": [
      " Conta16\n",
      "Saldo500\n",
      " Conta2\n",
      "Saldo500\n",
      " Conta3\n",
      "Saldo510\n"
     ]
    }
   ],
   "source": [
    "\"\"\"\n",
    "A saida mostra que a ordenacao nao esta correta, visto que um codigo maior esta sendo apresentado na primeira posicao, eh preciso um criterio\n",
    "secundario para contornar\n",
    "\"\"\"\n",
    "for conta in sorted(contas):\n",
    "    print(conta)"
   ]
  },
  {
   "cell_type": "code",
   "execution_count": 100,
   "metadata": {},
   "outputs": [
    {
     "name": "stdout",
     "output_type": "stream",
     "text": [
      " Conta2\n",
      "Saldo500\n",
      " Conta16\n",
      "Saldo500\n",
      " Conta3\n",
      "Saldo510\n"
     ]
    }
   ],
   "source": [
    "\"\"\"\n",
    "Metodo funcional\n",
    "\"\"\"\n",
    "for conta in sorted(contas, key = attrgetter(\"_saldo\", \"_codigo\")):\n",
    "    print(conta)"
   ]
  },
  {
   "cell_type": "code",
   "execution_count": 102,
   "metadata": {},
   "outputs": [],
   "source": [
    "\"\"\" \n",
    "Metodo 'natural' - orientado a objetos\n",
    "\"\"\"\n",
    "from functools import total_ordering\n",
    "\n",
    "@total_ordering\n",
    "class ContaSalario:\n",
    "    def __init__(self, codigo):\n",
    "        self._codigo = codigo\n",
    "        self._saldo = 0\n",
    "    \n",
    "    def __eq__(self, outro):\n",
    "        if type(outro) != ContaSalario:\n",
    "            return False\n",
    "        return self._codigo == outro._codigo\n",
    "    \n",
    "    def deposita(self, valor):\n",
    "        self._saldo += valor\n",
    "    \n",
    "    def __str__(self):\n",
    "        return f\" Conta: {self._codigo}\\nSaldo: {self._saldo}\"\n",
    "    \n",
    "    def __lt__(self, outro):\n",
    "        if self._saldo != outro._saldo:\n",
    "            return self._saldo < outro._saldo\n",
    "        return self._codigo < outro._codigo\n",
    "    "
   ]
  },
  {
   "cell_type": "code",
   "execution_count": 103,
   "metadata": {},
   "outputs": [],
   "source": [
    "conta_da_gabi = ContaSalario(16)\n",
    "conta_da_gabi.deposita(500)\n",
    "\n",
    "conta_da_ju = ContaSalario(2)\n",
    "conta_da_ju.deposita(500)\n",
    "\n",
    "conta_do_gui = ContaSalario(3)\n",
    "conta_do_gui.deposita(500)\n",
    "\n",
    "contas = [conta_do_gui, conta_da_gabi, conta_da_ju]"
   ]
  },
  {
   "cell_type": "code",
   "execution_count": 104,
   "metadata": {},
   "outputs": [
    {
     "name": "stdout",
     "output_type": "stream",
     "text": [
      " Conta: 2\n",
      "Saldo: 500\n",
      " Conta: 3\n",
      "Saldo: 500\n",
      " Conta: 16\n",
      "Saldo: 500\n"
     ]
    }
   ],
   "source": [
    "for conta in sorted(contas):\n",
    "    print(conta)"
   ]
  },
  {
   "cell_type": "code",
   "execution_count": 105,
   "metadata": {},
   "outputs": [],
   "source": [
    "conta_da_ju.deposita(1000)"
   ]
  },
  {
   "cell_type": "code",
   "execution_count": 106,
   "metadata": {},
   "outputs": [
    {
     "name": "stdout",
     "output_type": "stream",
     "text": [
      " Conta: 3\n",
      "Saldo: 500\n",
      " Conta: 16\n",
      "Saldo: 500\n",
      " Conta: 2\n",
      "Saldo: 1500\n"
     ]
    }
   ],
   "source": [
    "for conta in sorted(contas):\n",
    "    print(conta)"
   ]
  }
 ],
 "metadata": {
  "kernelspec": {
   "display_name": "Python 3.10.8 64-bit",
   "language": "python",
   "name": "python3"
  },
  "language_info": {
   "codemirror_mode": {
    "name": "ipython",
    "version": 3
   },
   "file_extension": ".py",
   "mimetype": "text/x-python",
   "name": "python",
   "nbconvert_exporter": "python",
   "pygments_lexer": "ipython3",
   "version": "3.10.8"
  },
  "orig_nbformat": 4,
  "vscode": {
   "interpreter": {
    "hash": "916dbcbb3f70747c44a77c7bcd40155683ae19c65e1c03b4aa3499c5328201f1"
   }
  }
 },
 "nbformat": 4,
 "nbformat_minor": 2
}
